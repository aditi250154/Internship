{
 "cells": [
  {
   "cell_type": "code",
   "execution_count": 72,
   "id": "4187f576-221c-44c5-8a36-9d313b97bd34",
   "metadata": {},
   "outputs": [
    {
     "name": "stdout",
     "output_type": "stream",
     "text": [
      "2.2.2\n"
     ]
    }
   ],
   "source": [
    "import pandas as pd\n",
    "print(pd.__version__)"
   ]
  },
  {
   "cell_type": "code",
   "execution_count": 73,
   "id": "1b9bb8a3-3a7a-45e5-92eb-8ea3711e85a3",
   "metadata": {},
   "outputs": [
    {
     "name": "stdout",
     "output_type": "stream",
     "text": [
      "0    1.0\n",
      "1    2.4\n",
      "2    3.4\n",
      "3    4.0\n",
      "4    5.0\n",
      "5    6.0\n",
      "6    7.0\n",
      "dtype: float64\n"
     ]
    }
   ],
   "source": [
    "#series in pandas \n",
    "A =[1.0,2.4,3.4,4,5,6,7]\n",
    "B = pd.Series(A)\n",
    "print(B)"
   ]
  },
  {
   "cell_type": "code",
   "execution_count": 74,
   "id": "5f76db86-4d34-483e-bf85-6a1cae4bda87",
   "metadata": {},
   "outputs": [
    {
     "name": "stdout",
     "output_type": "stream",
     "text": [
      "        Name  Age  Score\n",
      "0      Aditi   18     92\n",
      "1  Pratiksha   17     90\n",
      "2  Vaishanvi   18     90\n",
      "3  Digambari   17     90\n",
      "4      Tanvi   18     91\n",
      "5      Arohi   17     95\n"
     ]
    }
   ],
   "source": [
    "data={\n",
    "    'Name':['Aditi','Pratiksha','Vaishanvi','Digambari','Tanvi','Arohi'],\n",
    "    'Age':[18,17,18,17,18,17],\n",
    "   'Score':[92,90,90,90,91,95]\n",
    "}\n",
    "df =pd.DataFrame(data)\n",
    "print(df)"
   ]
  },
  {
   "cell_type": "code",
   "execution_count": 75,
   "id": "deedb55e-44b9-4370-b0b8-a297e7297495",
   "metadata": {},
   "outputs": [
    {
     "name": "stdout",
     "output_type": "stream",
     "text": [
      "        Name  Age  Score\n",
      "0      Aditi   18     92\n",
      "1  Pratiksha   17     90\n",
      "2  Vaishanvi   18     90\n",
      "3  Digambari   17     90\n",
      "4      Tanvi   18     91\n",
      "5      Arohi   17     95\n"
     ]
    }
   ],
   "source": [
    "print(df.to_string())"
   ]
  },
  {
   "cell_type": "code",
   "execution_count": 76,
   "id": "91642d9c-e23a-4b18-a664-ee7423725f4e",
   "metadata": {},
   "outputs": [
    {
     "name": "stdout",
     "output_type": "stream",
     "text": [
      "        Name  Age  Score\n",
      "0      Aditi   18     92\n",
      "1  Pratiksha   17     90\n",
      "2  Vaishanvi   18     90\n",
      "3  Digambari   17     90\n",
      "4      Tanvi   18     91\n",
      "        Name  Age  Score\n",
      "0      Aditi   18     92\n",
      "1  Pratiksha   17     90\n",
      "2  Vaishanvi   18     90\n",
      "_________________________________________________________________________________________\n",
      "        Name  Age  Score\n",
      "1  Pratiksha   17     90\n",
      "2  Vaishanvi   18     90\n",
      "3  Digambari   17     90\n",
      "4      Tanvi   18     91\n",
      "5      Arohi   17     95\n",
      "_________________________________________________________________________________________\n",
      "<class 'pandas.core.frame.DataFrame'>\n",
      "RangeIndex: 6 entries, 0 to 5\n",
      "Data columns (total 3 columns):\n",
      " #   Column  Non-Null Count  Dtype \n",
      "---  ------  --------------  ----- \n",
      " 0   Name    6 non-null      object\n",
      " 1   Age     6 non-null      int64 \n",
      " 2   Score   6 non-null      int64 \n",
      "dtypes: int64(2), object(1)\n",
      "memory usage: 276.0+ bytes\n",
      "None\n",
      "        Name  Age  Score\n",
      "0      Aditi   18     92\n",
      "1  Pratiksha   17     90\n",
      "2  Vaishanvi   18     90\n",
      "3  Digambari   17     90\n",
      "4      Tanvi   18     91\n",
      "5      Arohi   17     95\n",
      "_________________________________________________________________________________________\n",
      "             Age      Score\n",
      "count   6.000000   6.000000\n",
      "mean   17.500000  91.333333\n",
      "std     0.547723   1.966384\n",
      "min    17.000000  90.000000\n",
      "25%    17.000000  90.000000\n",
      "50%    17.500000  90.500000\n",
      "75%    18.000000  91.750000\n",
      "max    18.000000  95.000000\n",
      "_________________________________________________________________________________________\n"
     ]
    },
    {
     "data": {
      "text/plain": [
       "array([92, 90, 91, 95], dtype=int64)"
      ]
     },
     "execution_count": 76,
     "metadata": {},
     "output_type": "execute_result"
    }
   ],
   "source": [
    "#Analysing DataFrame \n",
    "#access top data values\n",
    "print(df.head())\n",
    "print(df.head(3))\n",
    "\n",
    "print(\"_________________________________________________________________________________________\")\n",
    "\n",
    "\n",
    "\n",
    "#Access Bottom data values\n",
    "print(df.tail())\n",
    "print(\"_________________________________________________________________________________________\")\n",
    "\n",
    "\n",
    "\n",
    "\n",
    "\n",
    "#Getting information about data\n",
    "print(df.info())\n",
    "print(df.to_string())\n",
    "print(\"_________________________________________________________________________________________\")\n",
    "\n",
    "\n",
    "\n",
    "#Discribe Dataset\n",
    "print(df.describe())\n",
    "print(\"_________________________________________________________________________________________\")\n",
    "\n",
    "\n",
    "\n",
    "\n",
    "# To return unique values\n",
    "df[\"Age\"].unique()\n",
    "df[\"Score\"].unique()\n",
    "\n"
   ]
  },
  {
   "cell_type": "code",
   "execution_count": 77,
   "id": "b6791b35-4cbf-4c64-99ec-caa6c07b855c",
   "metadata": {},
   "outputs": [
    {
     "name": "stdout",
     "output_type": "stream",
     "text": [
      "Name     Aditi\n",
      "Age         18\n",
      "Score       92\n",
      "Name: 0, dtype: object\n",
      "Name     Tanvi\n",
      "Age         18\n",
      "Score       91\n",
      "Name: 4, dtype: object\n"
     ]
    }
   ],
   "source": [
    "#Loacating data\n",
    "print(df.loc[0])\n",
    "print(df.loc[4])"
   ]
  },
  {
   "cell_type": "code",
   "execution_count": 78,
   "id": "cfb45fe8-82b1-4806-ae0a-702ef6c7cfd6",
   "metadata": {},
   "outputs": [
    {
     "name": "stdout",
     "output_type": "stream",
     "text": [
      "           Product Customer    Qtr 1  Qtr 2   Qtr 3    Qtr 4\n",
      "0     Alice Mutton    ANTON     0.00  702.0    0.00     0.00\n",
      "1     Alice Mutton    BERGS   312.00    0.0    0.00     0.00\n",
      "2     Alice Mutton    BOLID     0.00    0.0    0.00  1170.00\n",
      "3     Alice Mutton    BOTTM  1170.00    0.0    0.00     0.00\n",
      "4     Alice Mutton    ERNSH  1123.20    0.0    0.00  2607.15\n",
      "..             ...      ...      ...    ...     ...      ...\n",
      "272  Veggie-spread    FOLIG     0.00    0.0    0.00  1317.00\n",
      "273  Veggie-spread    HUNGO   921.37    0.0    0.00     0.00\n",
      "274  Veggie-spread    MORGK     0.00  263.4    0.00     0.00\n",
      "275  Veggie-spread    PICCO     0.00    0.0    0.00   395.10\n",
      "276  Veggie-spread    WHITC     0.00    0.0  842.88     0.00\n",
      "\n",
      "[277 rows x 6 columns]\n"
     ]
    }
   ],
   "source": [
    "# Upload  excel files\n",
    "ds=pd.read_excel(\"abc.xlsx\")\n",
    "print(ds)"
   ]
  },
  {
   "cell_type": "code",
   "execution_count": 79,
   "id": "b44e674d-b25c-4e94-96f1-43726e2df16d",
   "metadata": {},
   "outputs": [],
   "source": [
    "#print(ds.to_string())"
   ]
  },
  {
   "cell_type": "code",
   "execution_count": 80,
   "id": "f1b4b605-eb5f-4d05-942d-9b09c7b6b503",
   "metadata": {},
   "outputs": [
    {
     "name": "stdout",
     "output_type": "stream",
     "text": [
      "           Product Customer    Qtr 1  Qtr 2   Qtr 3    Qtr 4\n",
      "0     Alice Mutton    ANTON     0.00  702.0    0.00     0.00\n",
      "1     Alice Mutton    BERGS   312.00    0.0    0.00     0.00\n",
      "2     Alice Mutton    BOLID     0.00    0.0    0.00  1170.00\n",
      "3     Alice Mutton    BOTTM  1170.00    0.0    0.00     0.00\n",
      "4     Alice Mutton    ERNSH  1123.20    0.0    0.00  2607.15\n",
      "..             ...      ...      ...    ...     ...      ...\n",
      "272  Veggie-spread    FOLIG     0.00    0.0    0.00  1317.00\n",
      "273  Veggie-spread    HUNGO   921.37    0.0    0.00     0.00\n",
      "274  Veggie-spread    MORGK     0.00  263.4    0.00     0.00\n",
      "275  Veggie-spread    PICCO     0.00    0.0    0.00   395.10\n",
      "276  Veggie-spread    WHITC     0.00    0.0  842.88     0.00\n",
      "\n",
      "[277 rows x 6 columns]\n"
     ]
    }
   ],
   "source": [
    "#Handaling empty cells \n",
    "#using drop method \n",
    "new_ds=ds.dropna()\n",
    "print(new_ds)\n",
    "#print(new_ds.to_string())"
   ]
  },
  {
   "cell_type": "code",
   "execution_count": 81,
   "id": "a7f30663-97e6-4317-bb67-e99a499cbb09",
   "metadata": {},
   "outputs": [
    {
     "name": "stdout",
     "output_type": "stream",
     "text": [
      "None\n"
     ]
    }
   ],
   "source": [
    "#Filling empty cell\n",
    "pa=ds.fillna(0,inplace=True)\n",
    "print(pa)"
   ]
  },
  {
   "cell_type": "code",
   "execution_count": 82,
   "id": "6e38dfee-7eaa-4184-8a20-f45f28abb72f",
   "metadata": {},
   "outputs": [
    {
     "name": "stdout",
     "output_type": "stream",
     "text": [
      "<class 'pandas.core.frame.DataFrame'>\n",
      "RangeIndex: 277 entries, 0 to 276\n",
      "Data columns (total 6 columns):\n",
      " #   Column    Non-Null Count  Dtype  \n",
      "---  ------    --------------  -----  \n",
      " 0   Product   277 non-null    object \n",
      " 1   Customer  277 non-null    object \n",
      " 2   Qtr 1     277 non-null    float64\n",
      " 3   Qtr 2     277 non-null    float64\n",
      " 4   Qtr 3     277 non-null    float64\n",
      " 5   Qtr 4     277 non-null    float64\n",
      "dtypes: float64(4), object(2)\n",
      "memory usage: 13.1+ KB\n",
      "_________________________________________________________________________________________\n",
      "<class 'pandas.core.frame.DataFrame'>\n",
      "RangeIndex: 277 entries, 0 to 276\n",
      "Data columns (total 6 columns):\n",
      " #   Column    Non-Null Count  Dtype  \n",
      "---  ------    --------------  -----  \n",
      " 0   Product   277 non-null    object \n",
      " 1   Customer  277 non-null    object \n",
      " 2   Qtr 1     277 non-null    float64\n",
      " 3   Qtr 2     277 non-null    float64\n",
      " 4   Qtr 3     277 non-null    float64\n",
      " 5   Qtr 4     277 non-null    float64\n",
      "dtypes: float64(4), object(2)\n",
      "memory usage: 13.1+ KB\n",
      "_________________________________________________________________________________________\n",
      "<class 'pandas.core.frame.DataFrame'>\n",
      "RangeIndex: 277 entries, 0 to 276\n",
      "Data columns (total 6 columns):\n",
      " #   Column    Non-Null Count  Dtype  \n",
      "---  ------    --------------  -----  \n",
      " 0   Product   277 non-null    object \n",
      " 1   Customer  277 non-null    object \n",
      " 2   Qtr 1     277 non-null    float64\n",
      " 3   Qtr 2     277 non-null    float64\n",
      " 4   Qtr 3     277 non-null    float64\n",
      " 5   Qtr 4     277 non-null    float64\n",
      "dtypes: float64(4), object(2)\n",
      "memory usage: 13.1+ KB\n"
     ]
    },
    {
     "name": "stderr",
     "output_type": "stream",
     "text": [
      "C:\\Users\\Aditi Chougale\\AppData\\Local\\Temp\\ipykernel_10476\\632895864.py:4: FutureWarning: A value is trying to be set on a copy of a DataFrame or Series through chained assignment using an inplace method.\n",
      "The behavior will change in pandas 3.0. This inplace method will never work because the intermediate object on which we are setting values always behaves as a copy.\n",
      "\n",
      "For example, when doing 'df[col].method(value, inplace=True)', try using 'df.method({col: value}, inplace=True)' or df[col] = df[col].method(value) instead, to perform the operation inplace on the original object.\n",
      "\n",
      "\n",
      "  ds[\"Qtr 2\"].fillna(x,inplace=True)\n",
      "C:\\Users\\Aditi Chougale\\AppData\\Local\\Temp\\ipykernel_10476\\632895864.py:9: FutureWarning: A value is trying to be set on a copy of a DataFrame or Series through chained assignment using an inplace method.\n",
      "The behavior will change in pandas 3.0. This inplace method will never work because the intermediate object on which we are setting values always behaves as a copy.\n",
      "\n",
      "For example, when doing 'df[col].method(value, inplace=True)', try using 'df.method({col: value}, inplace=True)' or df[col] = df[col].method(value) instead, to perform the operation inplace on the original object.\n",
      "\n",
      "\n",
      "  ds[\"Qtr 4\"].fillna(x,inplace=True)\n",
      "C:\\Users\\Aditi Chougale\\AppData\\Local\\Temp\\ipykernel_10476\\632895864.py:14: FutureWarning: A value is trying to be set on a copy of a DataFrame or Series through chained assignment using an inplace method.\n",
      "The behavior will change in pandas 3.0. This inplace method will never work because the intermediate object on which we are setting values always behaves as a copy.\n",
      "\n",
      "For example, when doing 'df[col].method(value, inplace=True)', try using 'df.method({col: value}, inplace=True)' or df[col] = df[col].method(value) instead, to perform the operation inplace on the original object.\n",
      "\n",
      "\n",
      "  ds[\"Qtr 3\"].fillna(x,inplace=True)\n"
     ]
    }
   ],
   "source": [
    "#HANDLING EMPTY CELL\n",
    "#using mean\n",
    "x=ds[\"Qtr 1\"].mean()\n",
    "ds[\"Qtr 2\"].fillna(x,inplace=True)\n",
    "ds.info()\n",
    "print(\"_________________________________________________________________________________________\")\n",
    "#using median\n",
    "x=ds[\"Qtr 1\"].median()\n",
    "ds[\"Qtr 4\"].fillna(x,inplace=True)\n",
    "ds.info()\n",
    "print(\"_________________________________________________________________________________________\")\n",
    "#using mode\n",
    "x=ds[\"Qtr 1\"].mode()[0]\n",
    "ds[\"Qtr 3\"].fillna(x,inplace=True)\n",
    "ds.info()"
   ]
  },
  {
   "cell_type": "code",
   "execution_count": 83,
   "id": "7dce4344-5e49-4920-a534-408d42bb8643",
   "metadata": {},
   "outputs": [
    {
     "name": "stdout",
     "output_type": "stream",
     "text": [
      "0      False\n",
      "1      False\n",
      "2      False\n",
      "3      False\n",
      "4      False\n",
      "       ...  \n",
      "272    False\n",
      "273    False\n",
      "274    False\n",
      "275    False\n",
      "276    False\n",
      "Length: 277, dtype: bool\n"
     ]
    }
   ],
   "source": [
    "# handling duplicate\n",
    "\n",
    "print(ds.duplicated())\n",
    "#print(ds.to_string())"
   ]
  },
  {
   "cell_type": "code",
   "execution_count": 84,
   "id": "a68e9a6f-ad85-49f6-bd41-4461f364788e",
   "metadata": {},
   "outputs": [
    {
     "data": {
      "text/plain": [
       "<bound method DataFrame.corr of            Product Customer    Qtr 1  Qtr 2   Qtr 3    Qtr 4\n",
       "0     Alice Mutton    ANTON     0.00  702.0    0.00     0.00\n",
       "1     Alice Mutton    BERGS   312.00    0.0    0.00     0.00\n",
       "2     Alice Mutton    BOLID     0.00    0.0    0.00  1170.00\n",
       "3     Alice Mutton    BOTTM  1170.00    0.0    0.00     0.00\n",
       "4     Alice Mutton    ERNSH  1123.20    0.0    0.00  2607.15\n",
       "..             ...      ...      ...    ...     ...      ...\n",
       "272  Veggie-spread    FOLIG     0.00    0.0    0.00  1317.00\n",
       "273  Veggie-spread    HUNGO   921.37    0.0    0.00     0.00\n",
       "274  Veggie-spread    MORGK     0.00  263.4    0.00     0.00\n",
       "275  Veggie-spread    PICCO     0.00    0.0    0.00   395.10\n",
       "276  Veggie-spread    WHITC     0.00    0.0  842.88     0.00\n",
       "\n",
       "[277 rows x 6 columns]>"
      ]
     },
     "execution_count": 84,
     "metadata": {},
     "output_type": "execute_result"
    }
   ],
   "source": [
    "#Pandas - Data Correlations\n",
    "ds.corr"
   ]
  }
 ],
 "metadata": {
  "kernelspec": {
   "display_name": "Python 3 (ipykernel)",
   "language": "python",
   "name": "python3"
  },
  "language_info": {
   "codemirror_mode": {
    "name": "ipython",
    "version": 3
   },
   "file_extension": ".py",
   "mimetype": "text/x-python",
   "name": "python",
   "nbconvert_exporter": "python",
   "pygments_lexer": "ipython3",
   "version": "3.12.7"
  }
 },
 "nbformat": 4,
 "nbformat_minor": 5
}
