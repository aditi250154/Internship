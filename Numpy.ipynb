{
 "cells": [
  {
   "cell_type": "code",
   "execution_count": 26,
   "id": "f4f39294-1ce0-47a5-9b0a-4debe13083b4",
   "metadata": {},
   "outputs": [
    {
     "name": "stdout",
     "output_type": "stream",
     "text": [
      "Hello\n"
     ]
    }
   ],
   "source": [
    "print(\"Hello\")"
   ]
  },
  {
   "cell_type": "code",
   "execution_count": 27,
   "id": "2d90a7bc-7fec-4180-a132-e10de3bb380b",
   "metadata": {},
   "outputs": [
    {
     "name": "stdout",
     "output_type": "stream",
     "text": [
      "[10 20 30 40 50]\n",
      "<class 'numpy.ndarray'>\n"
     ]
    }
   ],
   "source": [
    "#Import numpy \n",
    "import numpy as np\n",
    "arr=np.array([10,20,30,40,50])\n",
    "print(arr)\n",
    "print(type(arr))\n"
   ]
  },
  {
   "cell_type": "code",
   "execution_count": 28,
   "id": "b6b07602-f7d0-4412-b031-7afd827c163e",
   "metadata": {},
   "outputs": [
    {
     "name": "stdout",
     "output_type": "stream",
     "text": [
      "1.26.4\n"
     ]
    }
   ],
   "source": [
    "# to checking numpy version\n",
    "print(np.__version__)"
   ]
  },
  {
   "cell_type": "code",
   "execution_count": 29,
   "id": "35c438b9-e41d-4d36-895f-bb7226693a7b",
   "metadata": {},
   "outputs": [
    {
     "name": "stdout",
     "output_type": "stream",
     "text": [
      "[ 10  20  30  40  50  60  70  80  90 100]\n"
     ]
    }
   ],
   "source": [
    "# to convert tuple into array\n",
    "arr2=np.array((10,20,30,40,50,60,70,80,90,100))\n",
    "print(arr2)"
   ]
  },
  {
   "cell_type": "code",
   "execution_count": 30,
   "id": "f7cad1f3-b8cb-4cdc-9a89-b7181960a93f",
   "metadata": {},
   "outputs": [
    {
     "name": "stdout",
     "output_type": "stream",
     "text": [
      "90\n"
     ]
    }
   ],
   "source": [
    "# zero dimensional array\n",
    "arr=np.array(90)\n",
    "print(arr)"
   ]
  },
  {
   "cell_type": "code",
   "execution_count": 31,
   "id": "a3f7d95b-b5b9-4ed7-99c8-b4b804aab054",
   "metadata": {},
   "outputs": [
    {
     "name": "stdout",
     "output_type": "stream",
     "text": [
      "[1 2 3 4 5]\n"
     ]
    }
   ],
   "source": [
    "# 1D array\n",
    "arr=np.array([1,2,3,4,5])\n",
    "print(arr)"
   ]
  },
  {
   "cell_type": "code",
   "execution_count": 32,
   "id": "d95b9d0b-efdb-4ea3-83fd-6e88718972da",
   "metadata": {},
   "outputs": [
    {
     "name": "stdout",
     "output_type": "stream",
     "text": [
      "[[1 2]\n",
      " [3 4]]\n"
     ]
    }
   ],
   "source": [
    "#2D array\n",
    "arr1=np.array([[1,2],[3,4]])\n",
    "print(arr1)"
   ]
  },
  {
   "cell_type": "code",
   "execution_count": 33,
   "id": "1431918b-5090-4f5f-a810-1a2905205d85",
   "metadata": {},
   "outputs": [
    {
     "name": "stdout",
     "output_type": "stream",
     "text": [
      "[[[1 2 3]\n",
      "  [4 5 6]\n",
      "  [7 8 9]]]\n",
      "3\n"
     ]
    }
   ],
   "source": [
    "#3D array\n",
    "arr3=np.array([[[1,2,3],\n",
    "                [4,5,6],\n",
    "                [7,8,9]]])\n",
    "print(arr3)\n",
    "# to find dimension of array\n",
    "print(arr3.ndim)"
   ]
  },
  {
   "cell_type": "code",
   "execution_count": 34,
   "id": "3f1c03b5-b093-4ac9-afeb-af2882c9ce73",
   "metadata": {},
   "outputs": [
    {
     "name": "stdout",
     "output_type": "stream",
     "text": [
      "2\n"
     ]
    }
   ],
   "source": [
    "# to access element fron array\n",
    "arr=np.array([1,2,3,4,5])\n",
    "print(arr[1])"
   ]
  },
  {
   "cell_type": "code",
   "execution_count": 35,
   "id": "01787f98-ed0f-4386-91f9-a9bb86acea69",
   "metadata": {},
   "outputs": [
    {
     "name": "stdout",
     "output_type": "stream",
     "text": [
      "[[100 200]\n",
      " [300 400]]\n",
      "100\n",
      "400\n"
     ]
    }
   ],
   "source": [
    "# to access 2D array\n",
    "arr2=np.array([[100,200],\n",
    "               [300,400]])\n",
    "print(arr2)\n",
    "print(arr2[0,0])\n",
    "print(arr2[1,1])"
   ]
  },
  {
   "cell_type": "code",
   "execution_count": 36,
   "id": "f4e3efcd-6db5-476f-8516-df0d9d953404",
   "metadata": {},
   "outputs": [
    {
     "name": "stdout",
     "output_type": "stream",
     "text": [
      "3D Array : [[[900 400 800]\n",
      "  [500 600 700]\n",
      "  [600 300 100]]]\n",
      "[500 600 700]\n"
     ]
    }
   ],
   "source": [
    "# to print negitive index element \n",
    "arr2=np.array([[[900,400,800],\n",
    "                [500,600,700],\n",
    "                [600,300,100]]])\n",
    "print(\"3D Array :\",arr2)\n",
    "print(arr2[0,-2])\n",
    "#print(arr2[1,-3])\n",
    "              "
   ]
  },
  {
   "cell_type": "code",
   "execution_count": 37,
   "id": "f396fff9-a6ef-49e8-8b43-5b427e57c370",
   "metadata": {},
   "outputs": [
    {
     "name": "stdout",
     "output_type": "stream",
     "text": [
      "5\n",
      "[5 6]\n"
     ]
    }
   ],
   "source": [
    "#sciling \n",
    "import numpy as np\n",
    "arr=np.array([1,2,3,4,5,6,7,])\n",
    "print(arr[1-4])\n",
    "\n",
    "#Negative sciling\n",
    "print(arr[-3:-1])"
   ]
  },
  {
   "cell_type": "code",
   "execution_count": 38,
   "id": "e73f1c93-81a6-48b0-9860-255cd80e3eab",
   "metadata": {},
   "outputs": [
    {
     "name": "stdout",
     "output_type": "stream",
     "text": [
      "Array:  [90.5 90.7 67.5 90.   4.  99.  10. ]\n",
      "Data type an array : float64\n"
     ]
    }
   ],
   "source": [
    "#to checking datatype\n",
    "arr=np.array([90.5,90.7,67.5,90,4,99,10])\n",
    "print(\"Array: \",arr)\n",
    "print(\"Data type an array :\",arr.dtype)"
   ]
  },
  {
   "cell_type": "code",
   "execution_count": 39,
   "id": "327f3fc5-c69c-44d7-8178-0e4c2e2444c1",
   "metadata": {},
   "outputs": [
    {
     "name": "stdout",
     "output_type": "stream",
     "text": [
      "[[0 9 8 7 6 5 4 3 2 1]\n",
      " [0 9 8 7 6 5 4 3 2 1]]\n",
      "Shape of an array : (2, 10)\n"
     ]
    }
   ],
   "source": [
    "#shape\n",
    "arr=np.array([[0,9,8,7,6,5,4,3,2,1],\n",
    "             [0,9,8,7,6,5,4,3,2,1]])\n",
    "print(arr)\n",
    "print(\"Shape of an array :\",arr.shape)"
   ]
  },
  {
   "cell_type": "code",
   "execution_count": 40,
   "id": "bd38b409-f7fb-48b3-acee-02436af06c78",
   "metadata": {},
   "outputs": [
    {
     "name": "stdout",
     "output_type": "stream",
     "text": [
      "Array:  [12 13 14 15 16]\n",
      "Size of array : 5\n"
     ]
    }
   ],
   "source": [
    "#Size\n",
    "arr=np.array([12,13,14,15,16])\n",
    "print(\"Array: \",arr)\n",
    "print(\"Size of array :\",arr.size)"
   ]
  },
  {
   "cell_type": "code",
   "execution_count": 41,
   "id": "10a299de-7935-492e-9a12-726152a60c34",
   "metadata": {},
   "outputs": [
    {
     "name": "stdout",
     "output_type": "stream",
     "text": [
      "[ 10  20  30  40  50  60  70  80  90 100 110 120]\n",
      "[[ 10  20  30]\n",
      " [ 40  50  60]\n",
      " [ 70  80  90]\n",
      " [100 110 120]]\n"
     ]
    }
   ],
   "source": [
    "#Reshaping \n",
    "arrR=np.array([10,20,30,40,50,60,70,80,90,100,110,120])\n",
    "print(arrR)\n",
    "a=arrR.reshape(4,3) ##here only take value witch can be arrange array's element like 3*4 =12 take only 12 element\n",
    "print(a)"
   ]
  },
  {
   "cell_type": "code",
   "execution_count": 42,
   "id": "c8fca3a5-2eb4-4a9b-909a-1cbc9e66b411",
   "metadata": {},
   "outputs": [
    {
     "name": "stdout",
     "output_type": "stream",
     "text": [
      "Array : [20 30 40 50 60 70 80 90]\n",
      "20\n",
      "30\n",
      "40\n",
      "50\n",
      "60\n",
      "70\n",
      "80\n",
      "90\n"
     ]
    }
   ],
   "source": [
    "#Iterating array element \n",
    "arr=np.array([20,30,40,50,60,70,80,90])\n",
    "print(\"Array :\",arr)\n",
    "for i in arr:\n",
    "    print(i)"
   ]
  },
  {
   "cell_type": "code",
   "execution_count": 43,
   "id": "f849e70d-70af-4718-82d3-1203987d5bc5",
   "metadata": {},
   "outputs": [
    {
     "name": "stdout",
     "output_type": "stream",
     "text": [
      "[[[1 2 3]\n",
      "  [4 5 6]\n",
      "  [7 8 9]]]\n"
     ]
    }
   ],
   "source": [
    "#Joining Array \n",
    "arr1=np.array([1,2,3,4,5])\n",
    "arr2=np.array([6,7,8,9,10])\n",
    "#arr3=np.concatenate((arr1,arr2))\n",
    "arrr3=arr1+arr2\n",
    "print(arr3)"
   ]
  },
  {
   "cell_type": "code",
   "execution_count": 44,
   "id": "1dd34574-fedf-406b-8815-90850c3b6bdd",
   "metadata": {},
   "outputs": [
    {
     "name": "stdout",
     "output_type": "stream",
     "text": [
      "[array([1, 2, 3, 4, 5]), array([ 6,  7,  8,  9, 10])]\n"
     ]
    }
   ],
   "source": [
    "#Spiliting Array \n",
    "arr=np.array([1,2,3,4,5,6,7,8,9,10])\n",
    "a=np.array_split(arr,2)\n",
    "print(a)"
   ]
  },
  {
   "cell_type": "code",
   "execution_count": 45,
   "id": "15a0a74a-78f4-4477-aee4-eb6a9c1aa371",
   "metadata": {},
   "outputs": [
    {
     "name": "stdout",
     "output_type": "stream",
     "text": [
      "(array([2], dtype=int64),)\n"
     ]
    }
   ],
   "source": [
    "#Searching Array\n",
    "arr=np.array([12,13,14,15,16,17])\n",
    "x=np.where(arr==14)\n",
    "print(x)\n"
   ]
  },
  {
   "cell_type": "code",
   "execution_count": 46,
   "id": "348c22bd-4812-4860-a7df-d3206c9b3a69",
   "metadata": {},
   "outputs": [
    {
     "name": "stdout",
     "output_type": "stream",
     "text": [
      "Asending : [ 1  2  3  4  5  6  7  8  9 10]\n",
      "Desending : [10  9  8  7  6  5  4  3  2  1]\n"
     ]
    }
   ],
   "source": [
    "#sorting Array\n",
    "\n",
    "#Asending Array\n",
    "arr1=np.array([6,7,8,9,10,1,2,3,4,5])\n",
    "print(\"Asending :\",np.sort(arr1))\n",
    "\n",
    "#Desending \n",
    "print(\"Desending :\",np.sort(arr1)[:: -1])"
   ]
  },
  {
   "cell_type": "code",
   "execution_count": 47,
   "id": "76ea54b1-6a2a-4e0b-a573-59cdcd84b001",
   "metadata": {},
   "outputs": [
    {
     "name": "stdout",
     "output_type": "stream",
     "text": [
      "[1 3 5]\n"
     ]
    }
   ],
   "source": [
    "#Filter Array \n",
    "arr1=np.array([1,2,3,4,5])\n",
    "x=[True,False,True,False,True]\n",
    "a=arr1[x]\n",
    "print(a)"
   ]
  },
  {
   "cell_type": "code",
   "execution_count": 57,
   "id": "0795412b-72fd-47f4-890f-d3e7653edf19",
   "metadata": {},
   "outputs": [
    {
     "name": "stdout",
     "output_type": "stream",
     "text": [
      "[False, False, True, True]\n",
      "[43 44]\n"
     ]
    }
   ],
   "source": [
    "#creating the filtering array \n",
    "arr=np.array([41,42,43,44])\n",
    "filter_arr=[]\n",
    "for element in arr:\n",
    "    if element>42:\n",
    "        filter_arr.append(True)\n",
    "    else:\n",
    "        filter_arr.append(False)\n",
    "newarr=arr[filter_arr]\n",
    "print(filter_arr)\n",
    "print(newarr)"
   ]
  },
  {
   "cell_type": "code",
   "execution_count": 50,
   "id": "abea1254-80b8-4ec7-b40c-4eddfc3b43a5",
   "metadata": {},
   "outputs": [
    {
     "name": "stdout",
     "output_type": "stream",
     "text": [
      "[10. 20. 30. 40. 50. 60. 70.]\n"
     ]
    }
   ],
   "source": [
    "#Data conversion \n",
    "arr=np.array([10,20,30,40,50,60,70])\n",
    "print(arr.astype(float))\n"
   ]
  },
  {
   "cell_type": "code",
   "execution_count": 51,
   "id": "2c666e0c-8068-410d-a195-bb5fd7d8ebc0",
   "metadata": {},
   "outputs": [
    {
     "name": "stdout",
     "output_type": "stream",
     "text": [
      "[10 20 30 40 50 60 70  6  7]\n",
      "[10 20 30 40 50 60 70  8]\n",
      "[10 30 40 50 60 70]\n"
     ]
    }
   ],
   "source": [
    "#Append\n",
    "arr=np.array([10,20,30,40,50,60,70])\n",
    "print(np.append(arr,[6,7]))\n",
    "print(np.append(arr,8))\n",
    "\n",
    "#Insert \n",
    "#print(np.insert(arr,3[6,7]))\n",
    "\n",
    "#deleting \n",
    "print(np.delete(arr,[1]))"
   ]
  },
  {
   "cell_type": "code",
   "execution_count": 52,
   "id": "b257f00d-7e6c-4122-8238-cb73a9b49a98",
   "metadata": {},
   "outputs": [
    {
     "name": "stdout",
     "output_type": "stream",
     "text": [
      "[10 20 30 40 50 60 70]\n",
      "280\n",
      "10\n",
      "70\n",
      "[ 10  30  60 100 150 210 280]\n"
     ]
    }
   ],
   "source": [
    "#Aggregate Function \n",
    "arr=np.array([10,20,30,40,50,60,70])\n",
    "print(arr)\n",
    "#sum\n",
    "print(np.sum(arr))\n",
    "#min\n",
    "print(np.min(arr))\n",
    "#max\n",
    "print(np.max(arr))\n",
    "print(np.cumsum(arr))"
   ]
  },
  {
   "cell_type": "code",
   "execution_count": 53,
   "id": "d02bc469-4814-4829-8a05-9e8930a8d99a",
   "metadata": {},
   "outputs": [
    {
     "name": "stdout",
     "output_type": "stream",
     "text": [
      "36.44444444444444\n",
      "30.0\n",
      "20\n"
     ]
    }
   ],
   "source": [
    "import statistics as stats\n",
    "arr=np.array([10,20,30,40,50,60,70,28,20])\n",
    "a=np.array(arr)\n",
    "print(np.mean(a))\n",
    "print(np.median(a))\n",
    "print(stats.mode(a))"
   ]
  },
  {
   "cell_type": "code",
   "execution_count": null,
   "id": "7678e371-516d-4325-b9d8-f6a438f7991d",
   "metadata": {},
   "outputs": [],
   "source": []
  },
  {
   "cell_type": "code",
   "execution_count": null,
   "id": "9099fe5d-7047-4e4a-bc73-2c84116226af",
   "metadata": {},
   "outputs": [],
   "source": []
  },
  {
   "cell_type": "code",
   "execution_count": null,
   "id": "07fce60c-2ac0-4f03-b750-d173087fc1c5",
   "metadata": {},
   "outputs": [],
   "source": []
  }
 ],
 "metadata": {
  "kernelspec": {
   "display_name": "Python 3 (ipykernel)",
   "language": "python",
   "name": "python3"
  },
  "language_info": {
   "codemirror_mode": {
    "name": "ipython",
    "version": 3
   },
   "file_extension": ".py",
   "mimetype": "text/x-python",
   "name": "python",
   "nbconvert_exporter": "python",
   "pygments_lexer": "ipython3",
   "version": "3.12.7"
  }
 },
 "nbformat": 4,
 "nbformat_minor": 5
}
