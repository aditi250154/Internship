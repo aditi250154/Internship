{
 "cells": [
  {
   "cell_type": "code",
   "execution_count": 2,
   "id": "98301961-7dd5-4a63-a34a-9a2ad140f4c1",
   "metadata": {},
   "outputs": [
    {
     "name": "stdout",
     "output_type": "stream",
     "text": [
      "import\n"
     ]
    }
   ],
   "source": [
    "\n",
    "#import Liabraries\n",
    "import numpy as np \n",
    "import pandas as pd\n",
    "import matplotlib.pyplot as plt\n",
    "import seaborn as sns\n",
    "print(\"import\")"
   ]
  },
  {
   "cell_type": "code",
   "execution_count": 31,
   "id": "a324bea8-3f2c-4f81-95fb-07a69cb3d9a7",
   "metadata": {},
   "outputs": [
    {
     "data": {
      "text/html": [
       "<div>\n",
       "<style scoped>\n",
       "    .dataframe tbody tr th:only-of-type {\n",
       "        vertical-align: middle;\n",
       "    }\n",
       "\n",
       "    .dataframe tbody tr th {\n",
       "        vertical-align: top;\n",
       "    }\n",
       "\n",
       "    .dataframe thead th {\n",
       "        text-align: right;\n",
       "    }\n",
       "</style>\n",
       "<table border=\"1\" class=\"dataframe\">\n",
       "  <thead>\n",
       "    <tr style=\"text-align: right;\">\n",
       "      <th></th>\n",
       "      <th>Name</th>\n",
       "      <th>Age</th>\n",
       "      <th>Gender</th>\n",
       "      <th>Email</th>\n",
       "      <th>Join_Date</th>\n",
       "      <th>Salary</th>\n",
       "      <th>Department</th>\n",
       "    </tr>\n",
       "  </thead>\n",
       "  <tbody>\n",
       "    <tr>\n",
       "      <th>0</th>\n",
       "      <td>Alice</td>\n",
       "      <td>NaN</td>\n",
       "      <td>NaN</td>\n",
       "      <td>user0@example.com</td>\n",
       "      <td>2021-05-21</td>\n",
       "      <td>NaN</td>\n",
       "      <td>Admin</td>\n",
       "    </tr>\n",
       "    <tr>\n",
       "      <th>1</th>\n",
       "      <td>Bob</td>\n",
       "      <td>40</td>\n",
       "      <td>M</td>\n",
       "      <td>user1@example.com</td>\n",
       "      <td>NaN</td>\n",
       "      <td>50000</td>\n",
       "      <td>Engineering</td>\n",
       "    </tr>\n",
       "    <tr>\n",
       "      <th>2</th>\n",
       "      <td>Charlie</td>\n",
       "      <td>unknown</td>\n",
       "      <td>Male</td>\n",
       "      <td>user2@example.com</td>\n",
       "      <td>2020/01/01</td>\n",
       "      <td>50000</td>\n",
       "      <td>HR</td>\n",
       "    </tr>\n",
       "    <tr>\n",
       "      <th>3</th>\n",
       "      <td>David</td>\n",
       "      <td>NaN</td>\n",
       "      <td>NaN</td>\n",
       "      <td>user3@example.com</td>\n",
       "      <td>2021-05-21</td>\n",
       "      <td>70000</td>\n",
       "      <td>Admin</td>\n",
       "    </tr>\n",
       "    <tr>\n",
       "      <th>4</th>\n",
       "      <td>Eva</td>\n",
       "      <td>35</td>\n",
       "      <td>Other</td>\n",
       "      <td>user4@example.com</td>\n",
       "      <td>July 4, 2020</td>\n",
       "      <td>70000</td>\n",
       "      <td>Engineering</td>\n",
       "    </tr>\n",
       "    <tr>\n",
       "      <th>5</th>\n",
       "      <td>Frank</td>\n",
       "      <td>unknown</td>\n",
       "      <td>Other</td>\n",
       "      <td>user5@example.com</td>\n",
       "      <td>NaN</td>\n",
       "      <td>70000</td>\n",
       "      <td>Admin</td>\n",
       "    </tr>\n",
       "    <tr>\n",
       "      <th>6</th>\n",
       "      <td>Grace</td>\n",
       "      <td>unknown</td>\n",
       "      <td>Female</td>\n",
       "      <td>user6@example.com</td>\n",
       "      <td>July 4, 2020</td>\n",
       "      <td>80000</td>\n",
       "      <td>Engineering</td>\n",
       "    </tr>\n",
       "    <tr>\n",
       "      <th>7</th>\n",
       "      <td>Hannah</td>\n",
       "      <td>NaN</td>\n",
       "      <td>Other</td>\n",
       "      <td>user7@example.com</td>\n",
       "      <td>2021-05-21</td>\n",
       "      <td>NaN</td>\n",
       "      <td>HR</td>\n",
       "    </tr>\n",
       "    <tr>\n",
       "      <th>8</th>\n",
       "      <td>Ivy</td>\n",
       "      <td>30</td>\n",
       "      <td>Female</td>\n",
       "      <td>user8@example.com</td>\n",
       "      <td>NaN</td>\n",
       "      <td>50000</td>\n",
       "      <td>Engineering</td>\n",
       "    </tr>\n",
       "    <tr>\n",
       "      <th>9</th>\n",
       "      <td>Jack</td>\n",
       "      <td>35</td>\n",
       "      <td>Male</td>\n",
       "      <td>user9@example.com</td>\n",
       "      <td>2020/01/01</td>\n",
       "      <td>80000</td>\n",
       "      <td>Engineering</td>\n",
       "    </tr>\n",
       "  </tbody>\n",
       "</table>\n",
       "</div>"
      ],
      "text/plain": [
       "      Name      Age  Gender              Email     Join_Date Salary  \\\n",
       "0    Alice      NaN     NaN  user0@example.com    2021-05-21    NaN   \n",
       "1      Bob       40       M  user1@example.com           NaN  50000   \n",
       "2  Charlie  unknown    Male  user2@example.com    2020/01/01  50000   \n",
       "3    David      NaN     NaN  user3@example.com    2021-05-21  70000   \n",
       "4      Eva       35   Other  user4@example.com  July 4, 2020  70000   \n",
       "5    Frank  unknown   Other  user5@example.com           NaN  70000   \n",
       "6    Grace  unknown  Female  user6@example.com  July 4, 2020  80000   \n",
       "7   Hannah      NaN   Other  user7@example.com    2021-05-21    NaN   \n",
       "8      Ivy       30  Female  user8@example.com           NaN  50000   \n",
       "9     Jack       35    Male  user9@example.com    2020/01/01  80000   \n",
       "\n",
       "    Department  \n",
       "0        Admin  \n",
       "1  Engineering  \n",
       "2           HR  \n",
       "3        Admin  \n",
       "4  Engineering  \n",
       "5        Admin  \n",
       "6  Engineering  \n",
       "7           HR  \n",
       "8  Engineering  \n",
       "9  Engineering  "
      ]
     },
     "execution_count": 31,
     "metadata": {},
     "output_type": "execute_result"
    }
   ],
   "source": [
    "# import dataset \n",
    "ds=pd.read_csv(\"pqr.csv\")\n",
    "ds.head(10)"
   ]
  },
  {
   "cell_type": "code",
   "execution_count": 48,
   "id": "3cf8c017-809e-4400-8590-5a7da4d35c14",
   "metadata": {},
   "outputs": [
    {
     "name": "stdout",
     "output_type": "stream",
     "text": [
      "<class 'pandas.core.frame.DataFrame'>\n",
      "RangeIndex: 105 entries, 0 to 104\n",
      "Data columns (total 7 columns):\n",
      " #   Column      Non-Null Count  Dtype         \n",
      "---  ------      --------------  -----         \n",
      " 0   Name        105 non-null    object        \n",
      " 1   Age         59 non-null     float64       \n",
      " 2   Gender      89 non-null     object        \n",
      " 3   Email       95 non-null     object        \n",
      " 4   Join_Date   26 non-null     datetime64[ns]\n",
      " 5   Salary      64 non-null     float64       \n",
      " 6   Department  89 non-null     object        \n",
      "dtypes: datetime64[ns](1), float64(2), object(4)\n",
      "memory usage: 5.9+ KB\n"
     ]
    }
   ],
   "source": [
    "ds.info()"
   ]
  },
  {
   "cell_type": "code",
   "execution_count": 7,
   "id": "c6ba245f-bb33-41b7-ad17-be31fedfdda3",
   "metadata": {},
   "outputs": [
    {
     "data": {
      "text/html": [
       "<div>\n",
       "<style scoped>\n",
       "    .dataframe tbody tr th:only-of-type {\n",
       "        vertical-align: middle;\n",
       "    }\n",
       "\n",
       "    .dataframe tbody tr th {\n",
       "        vertical-align: top;\n",
       "    }\n",
       "\n",
       "    .dataframe thead th {\n",
       "        text-align: right;\n",
       "    }\n",
       "</style>\n",
       "<table border=\"1\" class=\"dataframe\">\n",
       "  <thead>\n",
       "    <tr style=\"text-align: right;\">\n",
       "      <th></th>\n",
       "      <th>Name</th>\n",
       "      <th>Age</th>\n",
       "      <th>Gender</th>\n",
       "      <th>Email</th>\n",
       "      <th>Join_Date</th>\n",
       "      <th>Salary</th>\n",
       "      <th>Department</th>\n",
       "    </tr>\n",
       "  </thead>\n",
       "  <tbody>\n",
       "    <tr>\n",
       "      <th>count</th>\n",
       "      <td>105</td>\n",
       "      <td>72</td>\n",
       "      <td>89</td>\n",
       "      <td>95</td>\n",
       "      <td>70</td>\n",
       "      <td>78</td>\n",
       "      <td>89</td>\n",
       "    </tr>\n",
       "    <tr>\n",
       "      <th>unique</th>\n",
       "      <td>10</td>\n",
       "      <td>5</td>\n",
       "      <td>5</td>\n",
       "      <td>90</td>\n",
       "      <td>4</td>\n",
       "      <td>5</td>\n",
       "      <td>5</td>\n",
       "    </tr>\n",
       "    <tr>\n",
       "      <th>top</th>\n",
       "      <td>Alice</td>\n",
       "      <td>40</td>\n",
       "      <td>Male</td>\n",
       "      <td>user0@example.com</td>\n",
       "      <td>2021-05-21</td>\n",
       "      <td>50000</td>\n",
       "      <td>Engineering</td>\n",
       "    </tr>\n",
       "    <tr>\n",
       "      <th>freq</th>\n",
       "      <td>11</td>\n",
       "      <td>22</td>\n",
       "      <td>22</td>\n",
       "      <td>2</td>\n",
       "      <td>26</td>\n",
       "      <td>22</td>\n",
       "      <td>26</td>\n",
       "    </tr>\n",
       "  </tbody>\n",
       "</table>\n",
       "</div>"
      ],
      "text/plain": [
       "         Name Age Gender              Email   Join_Date Salary   Department\n",
       "count     105  72     89                 95          70     78           89\n",
       "unique     10   5      5                 90           4      5            5\n",
       "top     Alice  40   Male  user0@example.com  2021-05-21  50000  Engineering\n",
       "freq       11  22     22                  2          26     22           26"
      ]
     },
     "execution_count": 7,
     "metadata": {},
     "output_type": "execute_result"
    }
   ],
   "source": [
    "ds.describe()"
   ]
  },
  {
   "cell_type": "code",
   "execution_count": 13,
   "id": "dff5d8d9-5d33-4e37-aac9-4a0dd29aaef7",
   "metadata": {},
   "outputs": [
    {
     "data": {
      "text/plain": [
       "0"
      ]
     },
     "execution_count": 13,
     "metadata": {},
     "output_type": "execute_result"
    }
   ],
   "source": [
    "#Searching for duplicates\n",
    "ds.duplicated().sum()\n",
    "#ds.duplicated()"
   ]
  },
  {
   "cell_type": "code",
   "execution_count": 12,
   "id": "a29c6116-facd-4981-ad87-ca5ac66507ba",
   "metadata": {},
   "outputs": [],
   "source": [
    "#Remove duplicate\n",
    "ds.drop_duplicates(inplace=True)\n",
    "#After run searching cell"
   ]
  },
  {
   "cell_type": "code",
   "execution_count": 16,
   "id": "e32e40f8-732d-4694-ba11-f4a9e67da223",
   "metadata": {},
   "outputs": [
    {
     "data": {
      "text/plain": [
       "Index(['Name', 'Age', 'Gender', 'Email', 'Join_Date', 'Salary', 'Department'], dtype='object')"
      ]
     },
     "execution_count": 16,
     "metadata": {},
     "output_type": "execute_result"
    }
   ],
   "source": [
    "#To show column\n",
    "ds.columns"
   ]
  },
  {
   "cell_type": "code",
   "execution_count": 39,
   "id": "4ce91fef-8ce7-4353-98db-dea70b62a3c9",
   "metadata": {},
   "outputs": [],
   "source": [
    "#Handling Age \n",
    "ds[\"Age\"] = pd.to_numeric(ds[\"Age\"],errors='coerce')\n",
    "#Run info cell"
   ]
  },
  {
   "cell_type": "code",
   "execution_count": 23,
   "id": "e4a30886-55b6-499e-9e8b-5be123de2922",
   "metadata": {},
   "outputs": [
    {
     "data": {
      "text/plain": [
       "array([35., 40., 30., 25.])"
      ]
     },
     "execution_count": 23,
     "metadata": {},
     "output_type": "execute_result"
    }
   ],
   "source": [
    "ds[\"Age\"].unique()"
   ]
  },
  {
   "cell_type": "code",
   "execution_count": 22,
   "id": "d2d81bb2-4b73-4884-bc62-c43cc115dc06",
   "metadata": {},
   "outputs": [
    {
     "name": "stderr",
     "output_type": "stream",
     "text": [
      "C:\\Users\\Aditi Chougale\\AppData\\Local\\Temp\\ipykernel_14428\\4230202996.py:2: FutureWarning: A value is trying to be set on a copy of a DataFrame or Series through chained assignment using an inplace method.\n",
      "The behavior will change in pandas 3.0. This inplace method will never work because the intermediate object on which we are setting values always behaves as a copy.\n",
      "\n",
      "For example, when doing 'df[col].method(value, inplace=True)', try using 'df.method({col: value}, inplace=True)' or df[col] = df[col].method(value) instead, to perform the operation inplace on the original object.\n",
      "\n",
      "\n",
      "  ds[\"Age\"].fillna(x,inplace=True)\n"
     ]
    }
   ],
   "source": [
    "# to fill missing values\n",
    "x=ds[\"Age\"].median()\n",
    "ds[\"Age\"].fillna(x,inplace=True)"
   ]
  },
  {
   "cell_type": "code",
   "execution_count": 27,
   "id": "06b116b0-c6d9-464f-9ec0-76b6b72df628",
   "metadata": {},
   "outputs": [
    {
     "data": {
      "text/plain": [
       "array([nan, 'Male', 'Other', 'Female'], dtype=object)"
      ]
     },
     "execution_count": 27,
     "metadata": {},
     "output_type": "execute_result"
    }
   ],
   "source": [
    "ds[\"Gender\"].unique()"
   ]
  },
  {
   "cell_type": "code",
   "execution_count": 26,
   "id": "6a8b7b97-6d83-4aaf-82cf-4de1f018c8cf",
   "metadata": {},
   "outputs": [],
   "source": [
    "#Standerdized Gendar\n",
    "\n",
    "ds[\"Gender\"]=ds[\"Gender\"].replace({\n",
    "    \"M\":\"Male\",\"F\":\"Female\",\"\":\"None\"\n",
    "})\n",
    "#After run Gender.unique cell"
   ]
  },
  {
   "cell_type": "code",
   "execution_count": 29,
   "id": "8daeee72-c3dc-47aa-b65e-3668f2a71a65",
   "metadata": {},
   "outputs": [
    {
     "name": "stderr",
     "output_type": "stream",
     "text": [
      "C:\\Users\\Aditi Chougale\\AppData\\Local\\Temp\\ipykernel_14428\\3902033194.py:2: FutureWarning: A value is trying to be set on a copy of a DataFrame or Series through chained assignment using an inplace method.\n",
      "The behavior will change in pandas 3.0. This inplace method will never work because the intermediate object on which we are setting values always behaves as a copy.\n",
      "\n",
      "For example, when doing 'df[col].method(value, inplace=True)', try using 'df.method({col: value}, inplace=True)' or df[col] = df[col].method(value) instead, to perform the operation inplace on the original object.\n",
      "\n",
      "\n",
      "  ds[\"Email\"].fillna(\"-\",inplace=True)\n"
     ]
    }
   ],
   "source": [
    "#handing Email column \n",
    "ds[\"Email\"].fillna(\"-\",inplace=True)\n",
    "#After run info cell"
   ]
  },
  {
   "cell_type": "code",
   "execution_count": 36,
   "id": "1e987ff5-59c9-42aa-b27c-f0756d9046e9",
   "metadata": {},
   "outputs": [
    {
     "name": "stdout",
     "output_type": "stream",
     "text": [
      "        Name      Age  Gender               Email     Join_Date   Salary   Department\n",
      "0      Alice      NaN     NaN   user0@example.com    2021-05-21      NaN        Admin\n",
      "1        Bob       40       M   user1@example.com           NaN    50000  Engineering\n",
      "2    Charlie  unknown    Male   user2@example.com    2020/01/01    50000           HR\n",
      "3      David      NaN     NaN   user3@example.com    2021-05-21    70000        Admin\n",
      "4        Eva       35   Other   user4@example.com  July 4, 2020    70000  Engineering\n",
      "5      Frank  unknown   Other   user5@example.com           NaN    70000        Admin\n",
      "6      Grace  unknown  Female   user6@example.com  July 4, 2020    80000  Engineering\n",
      "7     Hannah      NaN   Other   user7@example.com    2021-05-21      NaN           HR\n",
      "8        Ivy       30  Female   user8@example.com           NaN    50000  Engineering\n",
      "9       Jack       35    Male   user9@example.com    2020/01/01    80000  Engineering\n",
      "10     Alice      NaN       M  user10@example.com    2021-05-21    70000  Engineering\n",
      "11       Bob       35       M  user11@example.com  July 4, 2020    50000        Sales\n",
      "12   Charlie       35       M  user12@example.com    22-06-2022    80000        Sales\n",
      "13     David  unknown   Other  user13@example.com           NaN      NaN        Sales\n",
      "14       Eva       40    Male  user14@example.com  July 4, 2020    80000           HR\n",
      "15     Frank       35   Other  user15@example.com           NaN      NaN        Admin\n",
      "16     Grace      NaN   Other  user16@example.com    2021-05-21    70000          NaN\n",
      "17    Hannah  unknown    Male  user17@example.com           NaN      NaN  Engineering\n",
      "18       Ivy       30    Male  user18@example.com    2021-05-21    50000  Engineering\n",
      "19      Jack       40    Male  user19@example.com           NaN    70000           HR\n",
      "20     Alice      NaN    Male  user20@example.com    2021-05-21    50000  Engineering\n",
      "21       Bob      NaN       M  user21@example.com    22-06-2022  unknown        Sales\n",
      "22   Charlie       30       F  user22@example.com           NaN    60000          NaN\n",
      "23     David       40       F  user23@example.com           NaN      NaN    Marketing\n",
      "24       Eva  unknown    Male  user24@example.com           NaN    60000  Engineering\n",
      "25     Frank       25       F  user25@example.com    22-06-2022    60000        Sales\n",
      "26     Grace       40       F  user26@example.com  July 4, 2020      NaN    Marketing\n",
      "27    Hannah       30    Male  user27@example.com    2021-05-21    70000          NaN\n",
      "28       Ivy      NaN       F  user28@example.com    2020/01/01  unknown    Marketing\n",
      "29      Jack  unknown   Other  user29@example.com    2021-05-21    50000        Sales\n",
      "30     Alice       40  Female  user30@example.com    2021-05-21    80000        Admin\n",
      "31       Bob       25  Female  user31@example.com  July 4, 2020    50000        Admin\n",
      "32   Charlie       25    Male  user32@example.com    2021-05-21    80000    Marketing\n",
      "33     David       35       M  user33@example.com    22-06-2022    50000           HR\n",
      "34       Eva       35    Male  user34@example.com    22-06-2022      NaN    Marketing\n",
      "35     Frank      NaN       M  user35@example.com           NaN  unknown  Engineering\n",
      "36     Grace       30  Female  user36@example.com           NaN    80000  Engineering\n",
      "37    Hannah       40    Male  user37@example.com    2020/01/01      NaN        Admin\n",
      "38       Ivy       40     NaN  user38@example.com    2021-05-21    70000           HR\n",
      "39      Jack      NaN   Other  user39@example.com    2021-05-21    50000        Sales\n",
      "40     Alice      NaN       F  user40@example.com  July 4, 2020    50000  Engineering\n",
      "41       Bob      NaN       M  user41@example.com           NaN    80000        Admin\n",
      "42   Charlie      NaN     NaN  user42@example.com    22-06-2022    70000          NaN\n",
      "43     David      NaN       F  user43@example.com    2020/01/01    70000        Admin\n",
      "44       Eva       35       F  user44@example.com           NaN      NaN  Engineering\n",
      "45     Frank       40    Male  user45@example.com    22-06-2022      NaN  Engineering\n",
      "46     Grace      NaN       F  user46@example.com           NaN      NaN        Admin\n",
      "47    Hannah       40   Other  user47@example.com           NaN      NaN        Sales\n",
      "48       Ivy       25     NaN  user48@example.com  July 4, 2020      NaN    Marketing\n",
      "49      Jack       35       F  user49@example.com  July 4, 2020      NaN  Engineering\n",
      "50     Alice  unknown    Male  user50@example.com    2021-05-21      NaN        Admin\n",
      "51       Bob       35   Other  user51@example.com           NaN  unknown        Admin\n",
      "52   Charlie      NaN  Female  user52@example.com    2020/01/01    70000           HR\n",
      "53     David  unknown     NaN  user53@example.com           NaN      NaN    Marketing\n",
      "54       Eva       25       F  user54@example.com    22-06-2022    70000          NaN\n",
      "55     Frank      NaN    Male  user55@example.com           NaN    70000        Sales\n",
      "56     Grace       30  Female  user56@example.com           NaN    60000          NaN\n",
      "57    Hannah       40  Female  user57@example.com  July 4, 2020  unknown    Marketing\n",
      "58       Ivy       25       M  user58@example.com    2021-05-21      NaN    Marketing\n",
      "59      Jack       40   Other  user59@example.com    2021-05-21    50000    Marketing\n",
      "60     Alice      NaN       F  user60@example.com           NaN    80000          NaN\n",
      "61       Bob       30    Male  user61@example.com  July 4, 2020      NaN    Marketing\n",
      "62   Charlie       30       M  user62@example.com           NaN    50000        Admin\n",
      "63     David       25   Other  user63@example.com    2020/01/01  unknown          NaN\n",
      "64       Eva       30       M  user64@example.com  July 4, 2020    80000    Marketing\n",
      "65     Frank  unknown     NaN  user65@example.com           NaN  unknown        Admin\n",
      "66     Grace       30   Other  user66@example.com           NaN    70000           HR\n",
      "67    Hannah       40   Other  user67@example.com  July 4, 2020    80000    Marketing\n",
      "68       Ivy       40       F  user68@example.com           NaN    70000          NaN\n",
      "69      Jack      NaN   Other  user69@example.com  July 4, 2020    50000  Engineering\n",
      "70     Alice       40       M  user70@example.com    22-06-2022    50000    Marketing\n",
      "71       Bob      NaN   Other  user71@example.com  July 4, 2020    80000  Engineering\n",
      "72   Charlie       40       F  user72@example.com  July 4, 2020    80000        Admin\n",
      "73     David  unknown       F  user73@example.com           NaN      NaN           HR\n",
      "74       Eva      NaN     NaN  user74@example.com           NaN  unknown        Sales\n",
      "75     Frank       35       M  user75@example.com    2021-05-21      NaN           HR\n",
      "76     Grace      NaN  Female  user76@example.com    2021-05-21  unknown    Marketing\n",
      "77    Hannah       25  Female  user77@example.com    22-06-2022      NaN  Engineering\n",
      "78       Ivy       40   Other  user78@example.com    2021-05-21    70000  Engineering\n",
      "79      Jack       30     NaN  user79@example.com  July 4, 2020    80000          NaN\n",
      "80     Alice       40    Male  user80@example.com           NaN    50000  Engineering\n",
      "81       Bob       30   Other  user81@example.com    2021-05-21  unknown          NaN\n",
      "82   Charlie      NaN     NaN  user82@example.com    2021-05-21  unknown        Admin\n",
      "83     David      NaN       M  user83@example.com    22-06-2022    50000        Sales\n",
      "84       Eva      NaN       M  user84@example.com           NaN      NaN    Marketing\n",
      "85     Frank       30       M  user85@example.com    22-06-2022  unknown          NaN\n",
      "86     Grace       40       M  user86@example.com  July 4, 2020      NaN        Sales\n",
      "87    Hannah      NaN       M  user87@example.com           NaN    70000  Engineering\n",
      "88       Ivy  unknown     NaN  user88@example.com    22-06-2022    80000  Engineering\n",
      "89      Jack      NaN     NaN  user89@example.com    2021-05-21    50000        Sales\n",
      "90     Alice       30       F                 NaN           NaN    80000  Engineering\n",
      "91       Bob       30  Female                 NaN           NaN      NaN        Admin\n",
      "92   Charlie       40       M                 NaN    2021-05-21  unknown        Admin\n",
      "93     David       30    Male                 NaN    22-06-2022  unknown        Sales\n",
      "94       Eva       30     NaN                 NaN    2021-05-21      NaN          NaN\n",
      "95     Frank      NaN    Male                 NaN           NaN    50000          NaN\n",
      "96     Grace       40    Male                 NaN           NaN    70000        Sales\n",
      "97    Hannah      NaN    Male                 NaN    2020/01/01    60000          NaN\n",
      "98       Ivy      NaN       F                 NaN    2020/01/01    50000          NaN\n",
      "99      Jack      NaN     NaN                 NaN  July 4, 2020    60000        Admin\n",
      "100    Alice      NaN     NaN   user0@example.com    2021-05-21      NaN        Admin\n",
      "101      Bob       40       M   user1@example.com           NaN    50000  Engineering\n",
      "102  Charlie  unknown    Male   user2@example.com    2020/01/01    50000           HR\n",
      "103    David      NaN     NaN   user3@example.com    2021-05-21    70000        Admin\n",
      "104      Eva       35   Other   user4@example.com  July 4, 2020    70000  Engineering\n"
     ]
    }
   ],
   "source": [
    "print(ds.to_string())\n"
   ]
  },
  {
   "cell_type": "code",
   "execution_count": 47,
   "id": "f58a5abd-77fb-4ac5-ab17-21a153aa08e7",
   "metadata": {},
   "outputs": [],
   "source": [
    "#HAndling date column\n",
    "ds[\"Join_Date\"]= pd.to_datetime(ds[\"Join_Date\"],errors='coerce')\n",
    "#run Info cell"
   ]
  },
  {
   "cell_type": "code",
   "execution_count": 44,
   "id": "a1e4df58-bc69-40da-8e58-bf9662f6eb5a",
   "metadata": {},
   "outputs": [],
   "source": [
    "#Handilng Salary column\n",
    "ds[\"Salary\"] =pd.to_numeric(ds[\"Salary\"],errors='coerce')\n",
    "#run info cell"
   ]
  },
  {
   "cell_type": "code",
   "execution_count": 52,
   "id": "4adc9e54-0fdb-4ddb-a822-d89ef4f1dec1",
   "metadata": {},
   "outputs": [
    {
     "data": {
      "text/plain": [
       "array(['Admin', 'Engineering', 'HR', 'Sales', 'Marketing'], dtype=object)"
      ]
     },
     "execution_count": 52,
     "metadata": {},
     "output_type": "execute_result"
    }
   ],
   "source": [
    "#\n",
    "ds[\"Department\"].unique()"
   ]
  },
  {
   "cell_type": "code",
   "execution_count": 51,
   "id": "d2af1da1-7334-4d9b-b174-a36f7d968027",
   "metadata": {},
   "outputs": [],
   "source": [
    "#Handilng Department column\n",
    "y= ds[\"Department\"].mode()[0]\n",
    "ds[\"Department\"].fillna(y,inplace=True)\n",
    "#run Department unique cell"
   ]
  },
  {
   "cell_type": "code",
   "execution_count": 54,
   "id": "eb7469bb-6aab-458e-8477-db3f1c12588a",
   "metadata": {},
   "outputs": [],
   "source": [
    "#Save Data into new file \n",
    "ds.to_csv(\"cleaned_data.csv\")"
   ]
  },
  {
   "cell_type": "code",
   "execution_count": null,
   "id": "26232a21-bd6f-4f64-b523-7c74fc57320c",
   "metadata": {},
   "outputs": [],
   "source": []
  }
 ],
 "metadata": {
  "kernelspec": {
   "display_name": "Python 3 (ipykernel)",
   "language": "python",
   "name": "python3"
  },
  "language_info": {
   "codemirror_mode": {
    "name": "ipython",
    "version": 3
   },
   "file_extension": ".py",
   "mimetype": "text/x-python",
   "name": "python",
   "nbconvert_exporter": "python",
   "pygments_lexer": "ipython3",
   "version": "3.12.7"
  }
 },
 "nbformat": 4,
 "nbformat_minor": 5
}
